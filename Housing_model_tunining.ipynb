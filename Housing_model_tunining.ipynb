{
  "cells": [
    {
      "cell_type": "code",
      "execution_count": null,
      "metadata": {
        "id": "QW3sfbNQC2hz"
      },
      "outputs": [],
      "source": [
        "import numpy as np\n",
        "import pandas as pd\n",
        "from scipy import stats\n",
        "\n",
        "import matplotlib.pyplot as plt\n",
        "import plotly.express as px\n",
        "import seaborn as sns\n",
        "\n",
        "%matplotlib inline\n",
        "\n",
        "from sklearn.linear_model import LinearRegression\n",
        "from sklearn.preprocessing import PolynomialFeatures\n",
        "from sklearn import config_context\n",
        "from sklearn.preprocessing import StandardScaler, OrdinalEncoder, OneHotEncoder\n",
        "from sklearn.model_selection import train_test_split, GridSearchCV, cross_val_score\n",
        "from sklearn.ensemble import RandomForestRegressor\n",
        "from sklearn.ensemble import StackingRegressor\n",
        "\n",
        "\n",
        "from sklearn.linear_model import RidgeCV\n",
        "from sklearn.compose import make_column_transformer, ColumnTransformer\n",
        "from sklearn.pipeline import Pipeline, make_pipeline\n",
        "from sklearn.impute import SimpleImputer\n",
        "from sklearn.kernel_ridge import KernelRidge\n",
        "from sklearn.metrics import mean_squared_error"
      ]
    },
    {
      "cell_type": "code",
      "source": [
        "data = \"train.csv\"\n",
        "\n",
        "HP = pd.read_csv(data)\n",
        "HP_kaggle= pd.read_csv(\"test.csv\")\n",
        "HP_sub = pd.read_csv('sample_submission.csv')\n",
        "\n",
        "HP.head()"
      ],
      "metadata": {
        "id": "if7wBcg0Qa5v",
        "colab": {
          "base_uri": "https://localhost:8080/",
          "height": 255
        },
        "outputId": "8c73af2e-e6d0-473b-fdf5-4ddb0de08247"
      },
      "execution_count": null,
      "outputs": [
        {
          "output_type": "execute_result",
          "data": {
            "text/plain": [
              "   Id  MSSubClass MSZoning  LotFrontage  LotArea Street Alley LotShape  \\\n",
              "0   1          60       RL         65.0     8450   Pave   NaN      Reg   \n",
              "1   2          20       RL         80.0     9600   Pave   NaN      Reg   \n",
              "2   3          60       RL         68.0    11250   Pave   NaN      IR1   \n",
              "3   4          70       RL         60.0     9550   Pave   NaN      IR1   \n",
              "4   5          60       RL         84.0    14260   Pave   NaN      IR1   \n",
              "\n",
              "  LandContour Utilities  ... PoolArea PoolQC Fence MiscFeature MiscVal MoSold  \\\n",
              "0         Lvl    AllPub  ...        0    NaN   NaN         NaN       0      2   \n",
              "1         Lvl    AllPub  ...        0    NaN   NaN         NaN       0      5   \n",
              "2         Lvl    AllPub  ...        0    NaN   NaN         NaN       0      9   \n",
              "3         Lvl    AllPub  ...        0    NaN   NaN         NaN       0      2   \n",
              "4         Lvl    AllPub  ...        0    NaN   NaN         NaN       0     12   \n",
              "\n",
              "  YrSold  SaleType  SaleCondition  SalePrice  \n",
              "0   2008        WD         Normal     208500  \n",
              "1   2007        WD         Normal     181500  \n",
              "2   2008        WD         Normal     223500  \n",
              "3   2006        WD        Abnorml     140000  \n",
              "4   2008        WD         Normal     250000  \n",
              "\n",
              "[5 rows x 81 columns]"
            ],
            "text/html": [
              "\n",
              "  <div id=\"df-01c8d0a7-38d5-4ffe-bb99-2b06060312de\" class=\"colab-df-container\">\n",
              "    <div>\n",
              "<style scoped>\n",
              "    .dataframe tbody tr th:only-of-type {\n",
              "        vertical-align: middle;\n",
              "    }\n",
              "\n",
              "    .dataframe tbody tr th {\n",
              "        vertical-align: top;\n",
              "    }\n",
              "\n",
              "    .dataframe thead th {\n",
              "        text-align: right;\n",
              "    }\n",
              "</style>\n",
              "<table border=\"1\" class=\"dataframe\">\n",
              "  <thead>\n",
              "    <tr style=\"text-align: right;\">\n",
              "      <th></th>\n",
              "      <th>Id</th>\n",
              "      <th>MSSubClass</th>\n",
              "      <th>MSZoning</th>\n",
              "      <th>LotFrontage</th>\n",
              "      <th>LotArea</th>\n",
              "      <th>Street</th>\n",
              "      <th>Alley</th>\n",
              "      <th>LotShape</th>\n",
              "      <th>LandContour</th>\n",
              "      <th>Utilities</th>\n",
              "      <th>...</th>\n",
              "      <th>PoolArea</th>\n",
              "      <th>PoolQC</th>\n",
              "      <th>Fence</th>\n",
              "      <th>MiscFeature</th>\n",
              "      <th>MiscVal</th>\n",
              "      <th>MoSold</th>\n",
              "      <th>YrSold</th>\n",
              "      <th>SaleType</th>\n",
              "      <th>SaleCondition</th>\n",
              "      <th>SalePrice</th>\n",
              "    </tr>\n",
              "  </thead>\n",
              "  <tbody>\n",
              "    <tr>\n",
              "      <th>0</th>\n",
              "      <td>1</td>\n",
              "      <td>60</td>\n",
              "      <td>RL</td>\n",
              "      <td>65.0</td>\n",
              "      <td>8450</td>\n",
              "      <td>Pave</td>\n",
              "      <td>NaN</td>\n",
              "      <td>Reg</td>\n",
              "      <td>Lvl</td>\n",
              "      <td>AllPub</td>\n",
              "      <td>...</td>\n",
              "      <td>0</td>\n",
              "      <td>NaN</td>\n",
              "      <td>NaN</td>\n",
              "      <td>NaN</td>\n",
              "      <td>0</td>\n",
              "      <td>2</td>\n",
              "      <td>2008</td>\n",
              "      <td>WD</td>\n",
              "      <td>Normal</td>\n",
              "      <td>208500</td>\n",
              "    </tr>\n",
              "    <tr>\n",
              "      <th>1</th>\n",
              "      <td>2</td>\n",
              "      <td>20</td>\n",
              "      <td>RL</td>\n",
              "      <td>80.0</td>\n",
              "      <td>9600</td>\n",
              "      <td>Pave</td>\n",
              "      <td>NaN</td>\n",
              "      <td>Reg</td>\n",
              "      <td>Lvl</td>\n",
              "      <td>AllPub</td>\n",
              "      <td>...</td>\n",
              "      <td>0</td>\n",
              "      <td>NaN</td>\n",
              "      <td>NaN</td>\n",
              "      <td>NaN</td>\n",
              "      <td>0</td>\n",
              "      <td>5</td>\n",
              "      <td>2007</td>\n",
              "      <td>WD</td>\n",
              "      <td>Normal</td>\n",
              "      <td>181500</td>\n",
              "    </tr>\n",
              "    <tr>\n",
              "      <th>2</th>\n",
              "      <td>3</td>\n",
              "      <td>60</td>\n",
              "      <td>RL</td>\n",
              "      <td>68.0</td>\n",
              "      <td>11250</td>\n",
              "      <td>Pave</td>\n",
              "      <td>NaN</td>\n",
              "      <td>IR1</td>\n",
              "      <td>Lvl</td>\n",
              "      <td>AllPub</td>\n",
              "      <td>...</td>\n",
              "      <td>0</td>\n",
              "      <td>NaN</td>\n",
              "      <td>NaN</td>\n",
              "      <td>NaN</td>\n",
              "      <td>0</td>\n",
              "      <td>9</td>\n",
              "      <td>2008</td>\n",
              "      <td>WD</td>\n",
              "      <td>Normal</td>\n",
              "      <td>223500</td>\n",
              "    </tr>\n",
              "    <tr>\n",
              "      <th>3</th>\n",
              "      <td>4</td>\n",
              "      <td>70</td>\n",
              "      <td>RL</td>\n",
              "      <td>60.0</td>\n",
              "      <td>9550</td>\n",
              "      <td>Pave</td>\n",
              "      <td>NaN</td>\n",
              "      <td>IR1</td>\n",
              "      <td>Lvl</td>\n",
              "      <td>AllPub</td>\n",
              "      <td>...</td>\n",
              "      <td>0</td>\n",
              "      <td>NaN</td>\n",
              "      <td>NaN</td>\n",
              "      <td>NaN</td>\n",
              "      <td>0</td>\n",
              "      <td>2</td>\n",
              "      <td>2006</td>\n",
              "      <td>WD</td>\n",
              "      <td>Abnorml</td>\n",
              "      <td>140000</td>\n",
              "    </tr>\n",
              "    <tr>\n",
              "      <th>4</th>\n",
              "      <td>5</td>\n",
              "      <td>60</td>\n",
              "      <td>RL</td>\n",
              "      <td>84.0</td>\n",
              "      <td>14260</td>\n",
              "      <td>Pave</td>\n",
              "      <td>NaN</td>\n",
              "      <td>IR1</td>\n",
              "      <td>Lvl</td>\n",
              "      <td>AllPub</td>\n",
              "      <td>...</td>\n",
              "      <td>0</td>\n",
              "      <td>NaN</td>\n",
              "      <td>NaN</td>\n",
              "      <td>NaN</td>\n",
              "      <td>0</td>\n",
              "      <td>12</td>\n",
              "      <td>2008</td>\n",
              "      <td>WD</td>\n",
              "      <td>Normal</td>\n",
              "      <td>250000</td>\n",
              "    </tr>\n",
              "  </tbody>\n",
              "</table>\n",
              "<p>5 rows × 81 columns</p>\n",
              "</div>\n",
              "    <div class=\"colab-df-buttons\">\n",
              "\n",
              "  <div class=\"colab-df-container\">\n",
              "    <button class=\"colab-df-convert\" onclick=\"convertToInteractive('df-01c8d0a7-38d5-4ffe-bb99-2b06060312de')\"\n",
              "            title=\"Convert this dataframe to an interactive table.\"\n",
              "            style=\"display:none;\">\n",
              "\n",
              "  <svg xmlns=\"http://www.w3.org/2000/svg\" height=\"24px\" viewBox=\"0 -960 960 960\">\n",
              "    <path d=\"M120-120v-720h720v720H120Zm60-500h600v-160H180v160Zm220 220h160v-160H400v160Zm0 220h160v-160H400v160ZM180-400h160v-160H180v160Zm440 0h160v-160H620v160ZM180-180h160v-160H180v160Zm440 0h160v-160H620v160Z\"/>\n",
              "  </svg>\n",
              "    </button>\n",
              "\n",
              "  <style>\n",
              "    .colab-df-container {\n",
              "      display:flex;\n",
              "      gap: 12px;\n",
              "    }\n",
              "\n",
              "    .colab-df-convert {\n",
              "      background-color: #E8F0FE;\n",
              "      border: none;\n",
              "      border-radius: 50%;\n",
              "      cursor: pointer;\n",
              "      display: none;\n",
              "      fill: #1967D2;\n",
              "      height: 32px;\n",
              "      padding: 0 0 0 0;\n",
              "      width: 32px;\n",
              "    }\n",
              "\n",
              "    .colab-df-convert:hover {\n",
              "      background-color: #E2EBFA;\n",
              "      box-shadow: 0px 1px 2px rgba(60, 64, 67, 0.3), 0px 1px 3px 1px rgba(60, 64, 67, 0.15);\n",
              "      fill: #174EA6;\n",
              "    }\n",
              "\n",
              "    .colab-df-buttons div {\n",
              "      margin-bottom: 4px;\n",
              "    }\n",
              "\n",
              "    [theme=dark] .colab-df-convert {\n",
              "      background-color: #3B4455;\n",
              "      fill: #D2E3FC;\n",
              "    }\n",
              "\n",
              "    [theme=dark] .colab-df-convert:hover {\n",
              "      background-color: #434B5C;\n",
              "      box-shadow: 0px 1px 3px 1px rgba(0, 0, 0, 0.15);\n",
              "      filter: drop-shadow(0px 1px 2px rgba(0, 0, 0, 0.3));\n",
              "      fill: #FFFFFF;\n",
              "    }\n",
              "  </style>\n",
              "\n",
              "    <script>\n",
              "      const buttonEl =\n",
              "        document.querySelector('#df-01c8d0a7-38d5-4ffe-bb99-2b06060312de button.colab-df-convert');\n",
              "      buttonEl.style.display =\n",
              "        google.colab.kernel.accessAllowed ? 'block' : 'none';\n",
              "\n",
              "      async function convertToInteractive(key) {\n",
              "        const element = document.querySelector('#df-01c8d0a7-38d5-4ffe-bb99-2b06060312de');\n",
              "        const dataTable =\n",
              "          await google.colab.kernel.invokeFunction('convertToInteractive',\n",
              "                                                    [key], {});\n",
              "        if (!dataTable) return;\n",
              "\n",
              "        const docLinkHtml = 'Like what you see? Visit the ' +\n",
              "          '<a target=\"_blank\" href=https://colab.research.google.com/notebooks/data_table.ipynb>data table notebook</a>'\n",
              "          + ' to learn more about interactive tables.';\n",
              "        element.innerHTML = '';\n",
              "        dataTable['output_type'] = 'display_data';\n",
              "        await google.colab.output.renderOutput(dataTable, element);\n",
              "        const docLink = document.createElement('div');\n",
              "        docLink.innerHTML = docLinkHtml;\n",
              "        element.appendChild(docLink);\n",
              "      }\n",
              "    </script>\n",
              "  </div>\n",
              "\n",
              "\n",
              "<div id=\"df-3b5b3e5a-2d97-4d70-89c8-a4f21aeddd0c\">\n",
              "  <button class=\"colab-df-quickchart\" onclick=\"quickchart('df-3b5b3e5a-2d97-4d70-89c8-a4f21aeddd0c')\"\n",
              "            title=\"Suggest charts\"\n",
              "            style=\"display:none;\">\n",
              "\n",
              "<svg xmlns=\"http://www.w3.org/2000/svg\" height=\"24px\"viewBox=\"0 0 24 24\"\n",
              "     width=\"24px\">\n",
              "    <g>\n",
              "        <path d=\"M19 3H5c-1.1 0-2 .9-2 2v14c0 1.1.9 2 2 2h14c1.1 0 2-.9 2-2V5c0-1.1-.9-2-2-2zM9 17H7v-7h2v7zm4 0h-2V7h2v10zm4 0h-2v-4h2v4z\"/>\n",
              "    </g>\n",
              "</svg>\n",
              "  </button>\n",
              "\n",
              "<style>\n",
              "  .colab-df-quickchart {\n",
              "      --bg-color: #E8F0FE;\n",
              "      --fill-color: #1967D2;\n",
              "      --hover-bg-color: #E2EBFA;\n",
              "      --hover-fill-color: #174EA6;\n",
              "      --disabled-fill-color: #AAA;\n",
              "      --disabled-bg-color: #DDD;\n",
              "  }\n",
              "\n",
              "  [theme=dark] .colab-df-quickchart {\n",
              "      --bg-color: #3B4455;\n",
              "      --fill-color: #D2E3FC;\n",
              "      --hover-bg-color: #434B5C;\n",
              "      --hover-fill-color: #FFFFFF;\n",
              "      --disabled-bg-color: #3B4455;\n",
              "      --disabled-fill-color: #666;\n",
              "  }\n",
              "\n",
              "  .colab-df-quickchart {\n",
              "    background-color: var(--bg-color);\n",
              "    border: none;\n",
              "    border-radius: 50%;\n",
              "    cursor: pointer;\n",
              "    display: none;\n",
              "    fill: var(--fill-color);\n",
              "    height: 32px;\n",
              "    padding: 0;\n",
              "    width: 32px;\n",
              "  }\n",
              "\n",
              "  .colab-df-quickchart:hover {\n",
              "    background-color: var(--hover-bg-color);\n",
              "    box-shadow: 0 1px 2px rgba(60, 64, 67, 0.3), 0 1px 3px 1px rgba(60, 64, 67, 0.15);\n",
              "    fill: var(--button-hover-fill-color);\n",
              "  }\n",
              "\n",
              "  .colab-df-quickchart-complete:disabled,\n",
              "  .colab-df-quickchart-complete:disabled:hover {\n",
              "    background-color: var(--disabled-bg-color);\n",
              "    fill: var(--disabled-fill-color);\n",
              "    box-shadow: none;\n",
              "  }\n",
              "\n",
              "  .colab-df-spinner {\n",
              "    border: 2px solid var(--fill-color);\n",
              "    border-color: transparent;\n",
              "    border-bottom-color: var(--fill-color);\n",
              "    animation:\n",
              "      spin 1s steps(1) infinite;\n",
              "  }\n",
              "\n",
              "  @keyframes spin {\n",
              "    0% {\n",
              "      border-color: transparent;\n",
              "      border-bottom-color: var(--fill-color);\n",
              "      border-left-color: var(--fill-color);\n",
              "    }\n",
              "    20% {\n",
              "      border-color: transparent;\n",
              "      border-left-color: var(--fill-color);\n",
              "      border-top-color: var(--fill-color);\n",
              "    }\n",
              "    30% {\n",
              "      border-color: transparent;\n",
              "      border-left-color: var(--fill-color);\n",
              "      border-top-color: var(--fill-color);\n",
              "      border-right-color: var(--fill-color);\n",
              "    }\n",
              "    40% {\n",
              "      border-color: transparent;\n",
              "      border-right-color: var(--fill-color);\n",
              "      border-top-color: var(--fill-color);\n",
              "    }\n",
              "    60% {\n",
              "      border-color: transparent;\n",
              "      border-right-color: var(--fill-color);\n",
              "    }\n",
              "    80% {\n",
              "      border-color: transparent;\n",
              "      border-right-color: var(--fill-color);\n",
              "      border-bottom-color: var(--fill-color);\n",
              "    }\n",
              "    90% {\n",
              "      border-color: transparent;\n",
              "      border-bottom-color: var(--fill-color);\n",
              "    }\n",
              "  }\n",
              "</style>\n",
              "\n",
              "  <script>\n",
              "    async function quickchart(key) {\n",
              "      const quickchartButtonEl =\n",
              "        document.querySelector('#' + key + ' button');\n",
              "      quickchartButtonEl.disabled = true;  // To prevent multiple clicks.\n",
              "      quickchartButtonEl.classList.add('colab-df-spinner');\n",
              "      try {\n",
              "        const charts = await google.colab.kernel.invokeFunction(\n",
              "            'suggestCharts', [key], {});\n",
              "      } catch (error) {\n",
              "        console.error('Error during call to suggestCharts:', error);\n",
              "      }\n",
              "      quickchartButtonEl.classList.remove('colab-df-spinner');\n",
              "      quickchartButtonEl.classList.add('colab-df-quickchart-complete');\n",
              "    }\n",
              "    (() => {\n",
              "      let quickchartButtonEl =\n",
              "        document.querySelector('#df-3b5b3e5a-2d97-4d70-89c8-a4f21aeddd0c button');\n",
              "      quickchartButtonEl.style.display =\n",
              "        google.colab.kernel.accessAllowed ? 'block' : 'none';\n",
              "    })();\n",
              "  </script>\n",
              "</div>\n",
              "\n",
              "    </div>\n",
              "  </div>\n"
            ],
            "application/vnd.google.colaboratory.intrinsic+json": {
              "type": "dataframe",
              "variable_name": "HP"
            }
          },
          "metadata": {},
          "execution_count": 2
        }
      ]
    },
    {
      "cell_type": "code",
      "source": [
        "y = HP['SalePrice']\n",
        "\n"
      ],
      "metadata": {
        "id": "4ferN2VhQZ9e"
      },
      "execution_count": null,
      "outputs": []
    },
    {
      "cell_type": "code",
      "source": [
        "new_submission = HP_kaggle[[\"Id\"]]"
      ],
      "metadata": {
        "id": "tDxPiYpLz42m"
      },
      "execution_count": null,
      "outputs": []
    },
    {
      "cell_type": "code",
      "execution_count": null,
      "metadata": {
        "id": "M0U4Ik5K6kPc"
      },
      "outputs": [],
      "source": [
        "def preproces_data(x):\n",
        "  x_output = x.select_dtypes(exclude=['object'])\n",
        "  x_output = x_output.fillna(0)\n",
        "  for var in ['Id', 'SalePrice']:\n",
        "    if var in x_output.columns:\n",
        "      x_output.drop(var, inplace=True, axis =1)\n",
        "  return(x_output)"
      ]
    },
    {
      "cell_type": "code",
      "execution_count": null,
      "metadata": {
        "id": "pfHEHdtA6mtJ"
      },
      "outputs": [],
      "source": [
        "def fill_nulls_with_mean(dataframe):\n",
        "\n",
        "\n",
        "    for column in dataframe.columns:\n",
        "        if dataframe[column].dtype in ['float64', 'int64']:\n",
        "            mean_value = dataframe[column].mean()\n",
        "            dataframe[column].fillna(mean_value, inplace=True)\n",
        "    return dataframe"
      ]
    },
    {
      "cell_type": "code",
      "execution_count": null,
      "metadata": {
        "id": "Ndj4csgy6pIz"
      },
      "outputs": [],
      "source": [
        "def transform_categoricals_to_dummies(origin_df, columns, merge_with):\n",
        "\n",
        "  dummies = pd.get_dummies(origin_df[columns])\n",
        "\n",
        "  output_df = merge_with.merge(dummies, left_index=True, right_index=True, how='outer')\n",
        "\n",
        "  return output_df"
      ]
    },
    {
      "cell_type": "code",
      "execution_count": null,
      "metadata": {
        "id": "Pvpl76qi6u18"
      },
      "outputs": [],
      "source": [
        "def process_nulls(dataframe):\n",
        "  for col in dataframe.columns:\n",
        "    if dataframe[col].dtype in ['float64', 'int64']:\n",
        "      dataframe[col].fillna( dataframe[col].mean(), inplace=True )\n",
        "  return dataframe"
      ]
    },
    {
      "cell_type": "code",
      "execution_count": null,
      "metadata": {
        "id": "nCozhIf4DyN5"
      },
      "outputs": [],
      "source": [
        "def map_categoricals(origin_df, merge_with):\n",
        "\n",
        "  output_df = pd.DataFrame(index=origin_df.index)\n",
        "  output_df.loc[:, ['Utilities']] = origin_df['Utilities'].map({'ELO': 0, 'NoSeWa': 1, 'NoSewr': 2, 'AllPub': 3})\n",
        "  output_df.loc[:, ['LandContour']] = origin_df['LandContour'].map({'Low': 0, 'HLS': 1, 'Bnk': 2, 'Lvl': 3})\n",
        "  output_df.loc[:, ['LandSlope']] = origin_df['LandSlope'].map({'Sev': 0, 'Mod': 1, 'Gtl': 2})\n",
        "  output_df.loc[:, ['BldgType']] = origin_df['BldgType'].map({'TwnhsI': 0, 'TwnhsE': 1, 'Duplx': 2, '2FmCon': 3, '1Fam': 4})\n",
        "  output_df.loc[:, ['HouseStyle']] = origin_df['HouseStyle'].map({'1Story': 0, '1.5Fin': 1, '1.5Unf': 2, '2Story': 3, '2.5Fin': 4,'2.5Unf': 5, 'SFoyer': 6, 'SLvl': 7})\n",
        "  output_df.loc[:, ['aExterQual']] = origin_df['ExterQual'].map({'Po': 0, 'Fa': 1, 'TA': 2, 'Gd': 3, 'Ex': 4})\n",
        "  output_df.loc[:, ['ExterCond']] = origin_df['ExterCond'].map({'Po': 0, 'Fa': 1, 'TA': 2, 'Gd': 3, 'Ex': 4})\n",
        "  output_df.loc[:, ['BsmtCond']] = origin_df['BsmtCond'].map({'NA': 0, 'Po': 1, 'Fa': 2, 'TA': 3, 'Gd': 4, 'Ex': 5})\n",
        "  output_df.loc[:, ['HeatingQC']] = origin_df['HeatingQC'].map({'Po': 0, 'Fa': 1, 'TA': 2, 'Gd': 3, 'Ex': 4})\n",
        "  output_df.loc[:, ['CentralAir']] = origin_df['CentralAir'].map({'N': 0, 'Y': 1})\n",
        "  output_df.loc[:, ['KitchenQual']] = origin_df['KitchenQual'].map({'Po': 0, 'Fa': 1, 'TA': 2, 'Gd': 3, 'Ex': 4})\n",
        "  output_df.loc[:, ['GarageFinish']] = origin_df['GarageFinish'].map({'NA': 0, 'Unf': 1, 'RFn': 2, 'Fin': 3})\n",
        "  output_df.loc[:, ['GarageQual']] = origin_df['GarageQual'].map({'NA': 0, 'Po': 1, 'Fa': 2, 'TA': 3, 'Gd': 4, 'Ex': 5})\n",
        "  output_df.loc[:, ['GarageCond']] = origin_df['GarageCond'].map({'NA': 0, 'Po': 1, 'Fa': 2, 'TA': 3, 'Gd': 4, 'Ex': 5})\n",
        "  output_df.loc[:, ['PavedDrive']] = origin_df['PavedDrive'].map({'N': 0, 'P': 1, 'Y': 2})\n",
        "  output_df.loc[:, ['PoolQC']] = origin_df['PoolQC'].map({'NaN': 0, 'Po': 1, 'Fa': 2, 'TA': 3, 'Gd': 4, 'Ex': 5})\n",
        "  output_df.loc[:, ['Fence']] = origin_df['Fence'].map({'NA': 0, 'MnWw': 1, 'GdWo': 2, 'MnPrv': 3, 'GdPrv': 4})\n",
        "\n",
        "  output_df.fillna(0, inplace=True)\n",
        "\n",
        "  output_df = merge_with.merge(output_df, left_index=True, right_index=True, how='outer')\n",
        "\n",
        "  return output_df"
      ]
    },
    {
      "cell_type": "code",
      "source": [],
      "metadata": {
        "id": "FUFQJoi8ST21"
      },
      "execution_count": null,
      "outputs": []
    },
    {
      "cell_type": "code",
      "execution_count": null,
      "metadata": {
        "id": "fabyxcet6yoQ"
      },
      "outputs": [],
      "source": [
        "def preproces_data(x):\n",
        "\n",
        "  for var in ['Id', 'SalePrice']:\n",
        "    if var in x.columns:\n",
        "      x.drop(var, inplace=True, axis =1)\n",
        "\n",
        "  x_numericals = x.select_dtypes(exclude=['object'])\n",
        "  process_nulls(x_numericals)\n",
        "\n",
        "  x_output = transform_categoricals_to_dummies(x, ['Neighborhood', 'Condition1', 'RoofStyle', 'MasVnrType'], x_numericals)\n",
        "  x_output = map_categoricals(x, x_output)\n",
        "\n",
        "  return(x_output)\n"
      ]
    },
    {
      "cell_type": "code",
      "execution_count": null,
      "metadata": {
        "id": "tztkFXcOD2kA"
      },
      "outputs": [],
      "source": [
        "def add_special_difference(dataframe, col_1, col_2):\n",
        "\n",
        "    dataframe[\"new_col\"] = dataframe[col_1] - dataframe[col_2]\n",
        "    set_new_col_name = input(\"Name new column: \")\n",
        "    dataframe.rename(columns={\"new_col\": set_new_col_name}, inplace=True)\n",
        "\n",
        "    return dataframe"
      ]
    },
    {
      "cell_type": "code",
      "execution_count": null,
      "metadata": {
        "id": "DDcjb6vc61gg"
      },
      "outputs": [],
      "source": [
        "def drop_outliers(df, outliers_ids):\n",
        "\n",
        "  output_df = df.drop(index=outliers_ids, inplace=True)"
      ]
    },
    {
      "cell_type": "code",
      "execution_count": null,
      "metadata": {
        "id": "nfE5GAXuDgKZ"
      },
      "outputs": [],
      "source": [
        "outliers_id = [186, 250, 314, 336, 379, 458, 598, 691, 692, 707, 739, 770, 899, 935, 955,1170, 1182, 1183, 1299]"
      ]
    },
    {
      "cell_type": "code",
      "execution_count": null,
      "metadata": {
        "id": "FEfXz2LqD1_z"
      },
      "outputs": [],
      "source": [
        "# 1. Map categorical values, preprocess the data\n",
        "\n",
        "X = preproces_data(HP)\n",
        "X_kaggle = preproces_data(HP_kaggle)\n",
        "\n",
        "drop_outliers(X, outliers_id)\n",
        "drop_outliers(y, outliers_id)"
      ]
    },
    {
      "cell_type": "code",
      "execution_count": null,
      "metadata": {
        "id": "WwAy7yQsU8fZ"
      },
      "outputs": [],
      "source": [
        "X[\"property_age\"] = X[\"YrSold\"] - X[\"YearBuilt\"]\n",
        "X['totalsf'] = X['1stFlrSF'] + X['2ndFlrSF'] + X['BsmtFinSF1'] + X['BsmtFinSF2']\n",
        "X['totalarea'] = X['GrLivArea'] + X['TotalBsmtSF']\n",
        "X['totalbaths'] = X['BsmtFullBath'] + X['FullBath'] + 0.5 * (X['BsmtHalfBath'] + X['HalfBath'])\n",
        "\n",
        "X_kaggle[\"property_age\"] = X_kaggle[\"YrSold\"] - X_kaggle[\"YearBuilt\"]\n",
        "X_kaggle['totalsf'] = X_kaggle['1stFlrSF'] + X_kaggle['2ndFlrSF'] + X_kaggle['BsmtFinSF1'] + X_kaggle['BsmtFinSF2']\n",
        "X_kaggle['totalarea'] = X_kaggle['GrLivArea'] + X_kaggle['TotalBsmtSF']\n",
        "X_kaggle['totalbaths'] = X_kaggle['BsmtFullBath'] + X_kaggle['FullBath'] + 0.5 * (X_kaggle['BsmtHalfBath'] + X_kaggle['HalfBath'])"
      ]
    },
    {
      "cell_type": "code",
      "execution_count": null,
      "metadata": {
        "id": "7HkDmaWaFPgt"
      },
      "outputs": [],
      "source": []
    },
    {
      "cell_type": "code",
      "execution_count": null,
      "metadata": {
        "id": "vVSyzrtaFPeU"
      },
      "outputs": [],
      "source": [
        "# Random Forest model\n",
        "\n",
        "RFR = RandomForestRegressor(random_state=13)\n",
        "\n",
        "\n",
        "param_grid_RFR = {\n",
        "    'max_depth': [5, 10, 15],\n",
        "    'n_estimators': [100, 250, 500],\n",
        "    'min_samples_split': [3, 5, 10]\n",
        "}\n",
        "\n",
        "\n",
        "rfr_cv = GridSearchCV(RFR, param_grid_RFR, cv=5, scoring='neg_mean_squared_error', n_jobs=-1)\n",
        "\n",
        "rfr_cv.fit(X_train, y_train)\n",
        "\n",
        "best_rmse = np.sqrt(-1 * rfr_cv.best_score_)\n",
        "print(f\"Best RMSE: {best_rmse}\")\n",
        "\n",
        "print(f\"Best Parameters: {rfr_cv.best_params_}\")"
      ]
    },
    {
      "cell_type": "code",
      "source": [],
      "metadata": {
        "id": "jtyPx5OV2wzp"
      },
      "execution_count": null,
      "outputs": []
    },
    {
      "cell_type": "code",
      "execution_count": null,
      "metadata": {
        "id": "umyPgN6zojjf",
        "colab": {
          "base_uri": "https://localhost:8080/"
        },
        "outputId": "0e184470-5786-4bb2-fa90-c7073806b419"
      },
      "outputs": [
        {
          "output_type": "execute_result",
          "data": {
            "text/plain": [
              "0.12863188004366016"
            ]
          },
          "metadata": {},
          "execution_count": 20
        }
      ],
      "source": [
        "X_train, X_test, y_train, y_test = train_test_split(X, y, test_size=0.2)\n",
        "\n",
        "model_rfr = RandomForestRegressor(max_depth=15, min_samples_split=5, n_estimators=250)\n",
        "model_rfr.fit(X_train, y_train)\n",
        "\n",
        "y_pred_rfr = model_rfr.predict(X_test)\n",
        "\n",
        "  # if prediction is negative:\n",
        "  # mean_squared_error(np.log(np.where(ypred<=0, np.mean(y_train), ypred)), np.log(y_test), squared = False)\n",
        "\n",
        "mean_squared_error(np.log(y_pred_rfr), np.log(y_test), squared = False)"
      ]
    },
    {
      "cell_type": "code",
      "source": [
        "y_pred_final = model_rfr.predict(X_kaggle)\n",
        "new_submission.loc[:, 'SalePrice'] = y_pred_final"
      ],
      "metadata": {
        "colab": {
          "base_uri": "https://localhost:8080/"
        },
        "id": "lX0jzgAx0GUO",
        "outputId": "04691aef-cdd3-4873-dfc1-a0300e345b21"
      },
      "execution_count": null,
      "outputs": [
        {
          "output_type": "stream",
          "name": "stderr",
          "text": [
            "<ipython-input-17-909bb1ad81b0>:2: SettingWithCopyWarning: \n",
            "A value is trying to be set on a copy of a slice from a DataFrame.\n",
            "Try using .loc[row_indexer,col_indexer] = value instead\n",
            "\n",
            "See the caveats in the documentation: https://pandas.pydata.org/pandas-docs/stable/user_guide/indexing.html#returning-a-view-versus-a-copy\n",
            "  new_submission.loc[:, 'SalePrice'] = y_pred_final\n"
          ]
        }
      ]
    },
    {
      "cell_type": "code",
      "source": [
        "new_submission.to_csv(\"random_forest_regressor_submission_new_feat.csv\", index = False)"
      ],
      "metadata": {
        "id": "6h6_d-NK0G4B"
      },
      "execution_count": null,
      "outputs": []
    },
    {
      "cell_type": "code",
      "source": [
        "# random fores combined with ridge by stacking regressor"
      ],
      "metadata": {
        "id": "KPni7Uit5oA4"
      },
      "execution_count": null,
      "outputs": []
    },
    {
      "cell_type": "code",
      "source": [
        "from sklearn.model_selection import cross_val_predict"
      ],
      "metadata": {
        "id": "Y-7D2_VldIOw"
      },
      "execution_count": null,
      "outputs": []
    },
    {
      "cell_type": "code",
      "source": [
        "X_train, X_test, y_train, y_test = train_test_split(X, y, test_size=0.2)\n",
        "\n",
        "model_rfr = RandomForestRegressor(max_depth=15, min_samples_split=5, n_estimators=250)\n",
        "ridge = RidgeCV(alphas=[0.1, 1.0, 10.0])\n",
        "\n",
        "\n",
        "stacking_regressor = StackingRegressor( estimators=[('rf', model_rfr)], final_estimator=ridge, cv=5)\n",
        "stacking_regressor.fit(X_train, y_train)\n",
        "\n",
        "\n",
        "y_train_pred = stacking_regressor.predict(X_train)\n",
        "y_test_pred = stacking_regressor.predict(X_test)\n",
        "\n",
        "\n",
        "\n",
        "y_test_pred_log = np.log(np.where(y_test_pred <= 0, np.nextafter(0, 1), y_test_pred))\n",
        "y_test_log = np.log(np.where(y_test <= 0, np.nextafter(0, 1), y_test))"
      ],
      "metadata": {
        "id": "Fy2Rnbi05n7B"
      },
      "execution_count": null,
      "outputs": []
    },
    {
      "cell_type": "code",
      "source": [
        "rmsle = np.sqrt(mean_squared_error(y_test_log, y_test_pred_log))\n",
        "print(f\"Root Mean Squared Log Error on test set: {rmsle}\")"
      ],
      "metadata": {
        "colab": {
          "base_uri": "https://localhost:8080/"
        },
        "id": "zvDXy0cY5nzS",
        "outputId": "e2db9370-f3cb-4772-bc28-da926464132a"
      },
      "execution_count": null,
      "outputs": [
        {
          "output_type": "stream",
          "name": "stdout",
          "text": [
            "Root Mean Squared Log Error on test set: 0.12278332454223094\n"
          ]
        }
      ]
    },
    {
      "cell_type": "code",
      "source": [
        "y_pred_final = stacking_regressor.predict(X_kaggle)\n",
        "new_submission.loc[:, 'SalePrice'] = y_pred_final"
      ],
      "metadata": {
        "colab": {
          "base_uri": "https://localhost:8080/"
        },
        "id": "tfxRTs8FesP9",
        "outputId": "17d3664e-01eb-488a-9d02-677b19e9dea5"
      },
      "execution_count": null,
      "outputs": [
        {
          "output_type": "stream",
          "name": "stderr",
          "text": [
            "<ipython-input-36-3e5ea36eb2c0>:2: SettingWithCopyWarning: \n",
            "A value is trying to be set on a copy of a slice from a DataFrame.\n",
            "Try using .loc[row_indexer,col_indexer] = value instead\n",
            "\n",
            "See the caveats in the documentation: https://pandas.pydata.org/pandas-docs/stable/user_guide/indexing.html#returning-a-view-versus-a-copy\n",
            "  new_submission.loc[:, 'SalePrice'] = y_pred_final\n"
          ]
        }
      ]
    },
    {
      "cell_type": "code",
      "source": [
        "new_submission.to_csv(\"random_forest_regressor_submission_new_feat_and:ridge.csv\", index = False)"
      ],
      "metadata": {
        "id": "3KVbzYHMewFr"
      },
      "execution_count": null,
      "outputs": []
    },
    {
      "cell_type": "code",
      "source": [],
      "metadata": {
        "id": "A_LrGDr3gugu"
      },
      "execution_count": null,
      "outputs": []
    },
    {
      "cell_type": "code",
      "source": [],
      "metadata": {
        "id": "t3gei7V9guei"
      },
      "execution_count": null,
      "outputs": []
    },
    {
      "cell_type": "code",
      "source": [],
      "metadata": {
        "id": "Eg2l5S1FguYH"
      },
      "execution_count": null,
      "outputs": []
    }
  ],
  "metadata": {
    "colab": {
      "provenance": []
    },
    "kernelspec": {
      "display_name": "Python 3",
      "name": "python3"
    },
    "language_info": {
      "name": "python"
    }
  },
  "nbformat": 4,
  "nbformat_minor": 0
}